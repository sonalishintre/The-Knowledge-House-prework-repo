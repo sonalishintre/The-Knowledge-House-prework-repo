{
 "cells": [
  {
   "cell_type": "markdown",
   "metadata": {},
   "source": [
    "## Assignment 1:"
   ]
  },
  {
   "cell_type": "markdown",
   "metadata": {},
   "source": [
    "Make your computer shout you out!\n",
    "#Programming a computer seems complicated but in reality, it is just learning the commands #your\n",
    "computer understands so you can make it do what you want it to do. The material does this #to is\n",
    "data, that can be numbers, strings (sets of characters enclosed in \"\"), or a boolean which\n",
    "#represents true and false, 0 or 1.\n",
    "#In order for your computer to show text on a screen you must tell it what you want it to say with a\n",
    "#print statement\n",
    "#Ex1:\n",
    "print \"Hello World\"\n",
    "#Output would be: Hello World\n",
    "#you can also capture strings and number and save them under names called variables:\n",
    "greeting = \"Hello World\"\n",
    "print greeting\n",
    "#Output would be: Hello World\n",
    "#Ex 2\n",
    "#You can also take words user's input (or from other sources) and sub them into your string\n",
    "#in the below example we have a variable that will save a users input for their favorite food:\n",
    "fav_food = input(\"What is your favorite food?\")\n",
    "print \"My favorite food is \" + fav_food\n",
    "#OUTPUT:\n",
    "#\"What is your favorite food?: Burgers\"\n",
    "#My favorite food is Burgers"
   ]
  },
  {
   "cell_type": "code",
   "execution_count": 1,
   "metadata": {},
   "outputs": [
    {
     "name": "stdout",
     "output_type": "stream",
     "text": [
      "Hello World\n"
     ]
    }
   ],
   "source": [
    "# EX1\n",
    "print(\"Hello World\")"
   ]
  },
  {
   "cell_type": "code",
   "execution_count": 2,
   "metadata": {},
   "outputs": [
    {
     "name": "stdout",
     "output_type": "stream",
     "text": [
      "Hello World\n"
     ]
    }
   ],
   "source": [
    "greeting = \"Hello World\"\n",
    "print(greeting)"
   ]
  },
  {
   "cell_type": "code",
   "execution_count": 6,
   "metadata": {},
   "outputs": [
    {
     "name": "stdout",
     "output_type": "stream",
     "text": [
      "What is your favorite food?: Burgers\n",
      "My favorite food is Burgers\n"
     ]
    }
   ],
   "source": [
    "# Ex2\n",
    "fav_food = input(\"What is your favorite food?: \")\n",
    "print(\"My favorite food is \" + fav_food)"
   ]
  },
  {
   "cell_type": "code",
   "execution_count": 7,
   "metadata": {},
   "outputs": [
    {
     "name": "stdout",
     "output_type": "stream",
     "text": [
      "What is your Name?: Sonali\n",
      "My Name is Sonali\n"
     ]
    }
   ],
   "source": [
    "My_Name = input(\"What is your Name?: \")\n",
    "print(\"My Name is \" + My_Name)"
   ]
  },
  {
   "cell_type": "code",
   "execution_count": null,
   "metadata": {},
   "outputs": [],
   "source": []
  },
  {
   "cell_type": "markdown",
   "metadata": {},
   "source": [
    "# Assignment 2:"
   ]
  },
  {
   "cell_type": "markdown",
   "metadata": {},
   "source": [
    "#Programming uses numbers, but thankfully you don't need to be a math genius to program. #Programming\n",
    "can be used to evaluate mathematical statements, you can also compare numbers to each-other #Ex1:\n",
    "4+4\n",
    "#Output: 8\n",
    "#Ex2:\n",
    "17<3\n",
    "#OUTPUT: False\n",
    "#We can also place a condition on the result of such a test:\n",
    "#Ex2\n",
    "example = 7\n",
    "if example > 8:\n",
    "print \"over\"\n",
    "else:\n",
    "print \"under\"\n",
    "#OUTPUT: under\n",
    "#You can do this to compare numbers to each-other\n",
    "#Lastly we have lists and loops, a list is just a collection of strings, numbers, or other pieces of data\n",
    "nums = [1,14,32,5,7]\n",
    "#here we have a list of numbers we can write a for loop to list them out for us, note the indented\n",
    "#command will run on all the numbers in the list num\n",
    "for num in nums:\n",
    "print num\n",
    "#Output:\n",
    "#1\n",
    "#14\n",
    "#32\n",
    "#5\n",
    "#7"
   ]
  },
  {
   "cell_type": "code",
   "execution_count": 8,
   "metadata": {},
   "outputs": [
    {
     "data": {
      "text/plain": [
       "8"
      ]
     },
     "execution_count": 8,
     "metadata": {},
     "output_type": "execute_result"
    }
   ],
   "source": [
    "#ex 1\n",
    "4+4"
   ]
  },
  {
   "cell_type": "code",
   "execution_count": 9,
   "metadata": {},
   "outputs": [
    {
     "data": {
      "text/plain": [
       "False"
      ]
     },
     "execution_count": 9,
     "metadata": {},
     "output_type": "execute_result"
    }
   ],
   "source": [
    "#Ex 2\n",
    "17<3"
   ]
  },
  {
   "cell_type": "code",
   "execution_count": 10,
   "metadata": {},
   "outputs": [
    {
     "name": "stdout",
     "output_type": "stream",
     "text": [
      "under\n"
     ]
    }
   ],
   "source": [
    "#ex 3\n",
    "example = 7 \n",
    "if example > 8: \n",
    "    print(\"over\")\n",
    "else: \n",
    "    print(\"under\")"
   ]
  },
  {
   "cell_type": "code",
   "execution_count": 11,
   "metadata": {},
   "outputs": [
    {
     "name": "stdout",
     "output_type": "stream",
     "text": [
      "1\n",
      "14\n",
      "32\n",
      "5\n",
      "7\n"
     ]
    }
   ],
   "source": [
    "nums = [1,14,32,5,7]\n",
    "for num in nums:\n",
    "    print(num)"
   ]
  },
  {
   "cell_type": "markdown",
   "metadata": {},
   "source": [
    "Now create a loop that compares the list of numbers provided for the number 25,  \n",
    "print over if it is over and under if it is under  \n",
    "over_under_list = [1,45,32,21,5,17,43,93]  "
   ]
  },
  {
   "cell_type": "code",
   "execution_count": 16,
   "metadata": {},
   "outputs": [
    {
     "name": "stdout",
     "output_type": "stream",
     "text": [
      "1 :under\n",
      "45 :over\n",
      "32 :over\n",
      "21 :under\n",
      "5 :under\n",
      "17 :under\n",
      "43 :over\n",
      "93 :over\n"
     ]
    }
   ],
   "source": [
    "over_under_list = [1,45,32,21,5,17,43,93]\n",
    "for num in over_under_list:\n",
    "    if num < 25:\n",
    "        print(num,\":under\")\n",
    "    else:\n",
    "        print(num,\":over\")"
   ]
  },
  {
   "cell_type": "code",
   "execution_count": null,
   "metadata": {},
   "outputs": [],
   "source": []
  },
  {
   "cell_type": "code",
   "execution_count": null,
   "metadata": {},
   "outputs": [],
   "source": []
  },
  {
   "cell_type": "markdown",
   "metadata": {},
   "source": [
    "# ASSIGNMENT 3"
   ]
  },
  {
   "cell_type": "markdown",
   "metadata": {},
   "source": [
    "Name comparison:\n",
    "#With your newfound skills we are going to add one new thing -- the len function.\n",
    "#The len function will tell you the length of the string:\n",
    "len(\"hello\") #5\n",
    "name = \"joe\"\n",
    "len(name) # 3\n",
    "Create a script that loops through a list of names, comparing the length of each name to the\n",
    "length of all other names in the list finally printing out only the largest name\n",
    "names_list = [\"bob\",\"jimmy\",\"max b\", \"bernie\", \"jordan\", \"future hendrix\"]\n",
    "#hint it should look something like this:\n",
    "#longest_name = '' empty string as placeholder\n",
    "#for name in names_list :\n",
    "\n",
    "#if len(name)>longest_name:\n",
    "#do something maybe reassign the longest name variable\n",
    "#else:\n",
    "#do another thing\n",
    "#print longest_name"
   ]
  },
  {
   "cell_type": "code",
   "execution_count": 39,
   "metadata": {},
   "outputs": [
    {
     "name": "stdout",
     "output_type": "stream",
     "text": [
      "jimmy\n",
      "bernie\n",
      "future hendrix\n"
     ]
    }
   ],
   "source": [
    "names_list = [\"bob\",\"jimmy\",\"max b\", \"bernie\", \"jordan\", \"future hendrix\"]\n",
    "longest_name = ''\n",
    "for name in names_list:\n",
    "    if len(name) > len(longest_name):\n",
    "        longest_name = name\n",
    "    else:\n",
    "        print(longest_name)\n",
    "        \n",
    "print(longest_name)\n",
    "   "
   ]
  },
  {
   "cell_type": "code",
   "execution_count": null,
   "metadata": {},
   "outputs": [],
   "source": []
  },
  {
   "cell_type": "code",
   "execution_count": null,
   "metadata": {},
   "outputs": [],
   "source": []
  },
  {
   "cell_type": "markdown",
   "metadata": {},
   "source": [
    "# ASSIGNMENT 4"
   ]
  },
  {
   "cell_type": "markdown",
   "metadata": {},
   "source": [
    "Functionally Literate:\n",
    "#So far all the code we created only runs once, however code can be encapsulated in a\n",
    "#function to be run multiple times, and to be run with placeholder inputs\n",
    "#ex1 greeting\n",
    "def greet(name):\n",
    "print \"hello \" + name\n",
    "#the indented code runs every-time we call the function into existence\n",
    "greet('joe')# \"hello joe\"\n",
    "greet('sam')# \"hello sam\"\n",
    "#functions can and usually do return a value this is not going to print, but can be assigned\n",
    "#to a variable and printed\n",
    "def add(num1,num2):\n",
    "return num1+num2\n",
    "add(1,2) #no output\n",
    "num_sum = add(1,2)\n",
    "print num_sum # OUTPUT: 3"
   ]
  },
  {
   "cell_type": "code",
   "execution_count": 45,
   "metadata": {},
   "outputs": [
    {
     "name": "stdout",
     "output_type": "stream",
     "text": [
      "hello joe\n",
      "hello sam\n"
     ]
    }
   ],
   "source": [
    "def greet(name):\n",
    "    print(\"hello \" + name)\n",
    "    \n",
    "greet('joe')\n",
    "greet('sam')"
   ]
  },
  {
   "cell_type": "code",
   "execution_count": 46,
   "metadata": {},
   "outputs": [],
   "source": [
    "def add(num1,num2):\n",
    "    return num1 + num2"
   ]
  },
  {
   "cell_type": "code",
   "execution_count": 48,
   "metadata": {},
   "outputs": [
    {
     "name": "stdout",
     "output_type": "stream",
     "text": [
      "3\n"
     ]
    }
   ],
   "source": [
    "num_sum = add(1,2)\n",
    "print(num_sum)"
   ]
  },
  {
   "cell_type": "code",
   "execution_count": 60,
   "metadata": {},
   "outputs": [],
   "source": [
    "names_list = [\"bob\",\"jimmy\",\"max b\", \"bernie\", \"jordan\", \"future hendrix\"]\n",
    "\n",
    "def long_name(names_list):\n",
    "    longest_name = ''\n",
    "    for name in names_list:\n",
    "        if len(name) > len(longest_name):\n",
    "            longest_name = name\n",
    "    return longest_name\n"
   ]
  },
  {
   "cell_type": "code",
   "execution_count": 61,
   "metadata": {},
   "outputs": [
    {
     "name": "stdout",
     "output_type": "stream",
     "text": [
      "future hendrix\n"
     ]
    }
   ],
   "source": [
    "big_name = long_name(names_list)\n",
    "print(big_name)"
   ]
  },
  {
   "cell_type": "code",
   "execution_count": null,
   "metadata": {},
   "outputs": [],
   "source": []
  },
  {
   "cell_type": "code",
   "execution_count": null,
   "metadata": {},
   "outputs": [],
   "source": []
  },
  {
   "cell_type": "markdown",
   "metadata": {},
   "source": [
    "# ASSIGNMENT 5"
   ]
  },
  {
   "cell_type": "markdown",
   "metadata": {},
   "source": [
    "#all strings and lists have individual characters and items respectfully represented by an index number\n",
    "#this starts at 0, and can be accessed in bracket notation\n",
    "thing = \"car\"\n",
    "thing[0]#c\n",
    "thing[2]#r\n",
    "list = [\"one\",2,\"3hree\"]\n",
    "list[2] # 3hree\n",
    "\n",
    "#\n",
    "print both lists and then return the even one and print"
   ]
  },
  {
   "cell_type": "code",
   "execution_count": 62,
   "metadata": {},
   "outputs": [
    {
     "data": {
      "text/plain": [
       "'c'"
      ]
     },
     "execution_count": 62,
     "metadata": {},
     "output_type": "execute_result"
    }
   ],
   "source": [
    "thing = \"car\"\n",
    "thing[0]"
   ]
  },
  {
   "cell_type": "code",
   "execution_count": 63,
   "metadata": {},
   "outputs": [
    {
     "data": {
      "text/plain": [
       "'r'"
      ]
     },
     "execution_count": 63,
     "metadata": {},
     "output_type": "execute_result"
    }
   ],
   "source": [
    "thing[2]"
   ]
  },
  {
   "cell_type": "code",
   "execution_count": 64,
   "metadata": {},
   "outputs": [
    {
     "data": {
      "text/plain": [
       "'three'"
      ]
     },
     "execution_count": 64,
     "metadata": {},
     "output_type": "execute_result"
    }
   ],
   "source": [
    "list1 = [\"one\",2,\"three\"]\n",
    "list1[2]"
   ]
  },
  {
   "cell_type": "code",
   "execution_count": null,
   "metadata": {},
   "outputs": [],
   "source": []
  },
  {
   "cell_type": "markdown",
   "metadata": {},
   "source": [
    "create a function that takes the below list of names, and separates them into two  \n",
    "lists one of the names with an even number of letters and one with an odd number of  \n",
    "letters.  \n",
    "Then take the first letter of each of the names in the even list and make it the  \n",
    "letter \"b\", take the last letter in each of the names in the odd list and make them  \n",
    "a “c”  \n",
    "Print both lists and then return the even one to a variable named even_list and\n",
    "print it again.  \n",
    "names_list = [\"bob\",\"jimmy\",\"max b\", \"bernie\", \"jordan\", \"future hendrix\"]  \n"
   ]
  },
  {
   "cell_type": "code",
   "execution_count": 91,
   "metadata": {},
   "outputs": [],
   "source": [
    "names_list = [\"bob\",\"jimmy\",\"max b\", \"bernie\", \"jordan\", \"future hendrix\"]\n",
    "even_list =[]\n",
    "odd_list =[]\n",
    "def even_odd_list(names_list):\n",
    "    for name in names_list:\n",
    "        name = name.strip()\n",
    "        if len(name) % 2 == 0:\n",
    "            even_change = list(name)\n",
    "            even_change[0] = \"b\"\n",
    "            even_change =''.join(even_change)\n",
    "            even_list.append(even_change)\n",
    "        else:\n",
    "            odd_change = list(name)\n",
    "            odd_change[-1] = \"c\"\n",
    "            odd_change =''.join(odd_change)\n",
    "            odd_list.append(odd_change)\n",
    "    return even_list, odd_list\n",
    "    "
   ]
  },
  {
   "cell_type": "code",
   "execution_count": 92,
   "metadata": {},
   "outputs": [],
   "source": [
    "even_list, odd_list = even_odd_list(names_list) "
   ]
  },
  {
   "cell_type": "code",
   "execution_count": 93,
   "metadata": {},
   "outputs": [
    {
     "name": "stdout",
     "output_type": "stream",
     "text": [
      "['bernie', 'bordan', 'buture hendrix']\n",
      "['boc', 'jimmc', 'max c']\n"
     ]
    }
   ],
   "source": [
    "print(even_list)\n",
    "print(odd_list)\n"
   ]
  },
  {
   "cell_type": "code",
   "execution_count": null,
   "metadata": {},
   "outputs": [],
   "source": []
  }
 ],
 "metadata": {
  "kernelspec": {
   "display_name": "Python 3",
   "language": "python",
   "name": "python3"
  },
  "language_info": {
   "codemirror_mode": {
    "name": "ipython",
    "version": 3
   },
   "file_extension": ".py",
   "mimetype": "text/x-python",
   "name": "python",
   "nbconvert_exporter": "python",
   "pygments_lexer": "ipython3",
   "version": "3.6.8"
  }
 },
 "nbformat": 4,
 "nbformat_minor": 2
}
